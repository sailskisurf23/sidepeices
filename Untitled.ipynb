{
 "cells": [
  {
   "cell_type": "code",
   "execution_count": 2,
   "metadata": {
    "collapsed": true
   },
   "outputs": [],
   "source": [
    "import pandas as pd"
   ]
  },
  {
   "cell_type": "code",
   "execution_count": 4,
   "metadata": {},
   "outputs": [],
   "source": [
    "df = pd.read_csv('/Users/colinbrochard/sidepeices/beds.csv', delimiter=',',low_memory = False)"
   ]
  },
  {
   "cell_type": "code",
   "execution_count": 86,
   "metadata": {},
   "outputs": [
    {
     "data": {
      "text/plain": [
       "Index(['Facility ID', 'Facility Name', 'Certification Number',\n",
       "       'Street Address', 'City', 'State', 'Zip Code', 'County', 'Area Office',\n",
       "       'Phone Number', 'Website', 'Facility Status', 'Bed Census Date',\n",
       "       'Most Recently Submitted Facility Census Data', 'Weeks Since Census',\n",
       "       'Total Residential Beds', 'Available Residential Beds',\n",
       "       'Facility Has Pediatric Beds', 'Total Pediatric Beds',\n",
       "       'Available Pediatric Beds', 'Facility Has Pediatric Ventilator Beds',\n",
       "       'Total Pediatric Ventilator Beds',\n",
       "       'Available Pediatric Ventilator Beds',\n",
       "       'Facility Has Behavioral Intervention Beds',\n",
       "       'Total Behavioral Intervention Beds',\n",
       "       'Available Behavioral Intervention Beds',\n",
       "       'Facility Has Ventilator Beds', 'Total Ventilator Beds',\n",
       "       'Available Ventilator Beds', 'Facility Has Scatter Ventilator Beds',\n",
       "       'Total Scatter Ventilator Beds', 'Available Scatter Ventilator Beds',\n",
       "       'Facility Has Traumatic Brain Injury (TBI) Beds',\n",
       "       'Total Traumatic Brain Injury (TBI) Beds',\n",
       "       'Available Traumatic Brain Injury (TBI) Beds',\n",
       "       'Facility Has Coma Recovery Beds', 'Total Coma Recovery Beds',\n",
       "       'Available Coma Recovery Beds',\n",
       "       'Facility Has Adult Day Health Care Program',\n",
       "       'Total Adult Day Health Care Capacity',\n",
       "       'Available Adult Day Health Care Capacity',\n",
       "       'Facility Has Dialysis Stations', 'Total Dialysis Stations',\n",
       "       'Total Dialysis Capacity', 'Available Dialysis Capacity',\n",
       "       'Special Circumstances Regarding Bed Availability', 'Latitude',\n",
       "       'Longitude'],\n",
       "      dtype='object')"
      ]
     },
     "execution_count": 86,
     "metadata": {},
     "output_type": "execute_result"
    }
   ],
   "source": [
    "df.columns"
   ]
  },
  {
   "cell_type": "code",
   "execution_count": 9,
   "metadata": {},
   "outputs": [
    {
     "data": {
      "text/plain": [
       "9198"
      ]
     },
     "execution_count": 9,
     "metadata": {},
     "output_type": "execute_result"
    }
   ],
   "source": [
    "max(df[\"Facility ID\"])"
   ]
  },
  {
   "cell_type": "code",
   "execution_count": 12,
   "metadata": {
    "collapsed": true
   },
   "outputs": [],
   "source": [
    "def max_facility_id(df=df):\n",
    "    '''\n",
    "    INPUT: DataFrame\n",
    "    OUTPUT: int\n",
    "\n",
    "    Write a query on the input data frame that returns the maximum facility id.\n",
    "    '''\n",
    "    return max(df[\"Facility ID\"])"
   ]
  },
  {
   "cell_type": "code",
   "execution_count": 13,
   "metadata": {},
   "outputs": [
    {
     "data": {
      "text/plain": [
       "9198"
      ]
     },
     "execution_count": 13,
     "metadata": {},
     "output_type": "execute_result"
    }
   ],
   "source": [
    "max_facility_id()"
   ]
  },
  {
   "cell_type": "code",
   "execution_count": 36,
   "metadata": {
    "collapsed": true
   },
   "outputs": [],
   "source": [
    "def number_of_censuses(df, facility_id):\n",
    "    '''\n",
    "    INPUT: DataFrame, int\n",
    "    OUTPUT: date\n",
    "    Write a pandas query that returns count of how many censuses were reported \n",
    "    for the specified facility id\n",
    "    '''\n",
    "    return df[df['Facility ID'] == facility_id]['Facility ID'].count()"
   ]
  },
  {
   "cell_type": "code",
   "execution_count": 31,
   "metadata": {},
   "outputs": [
    {
     "data": {
      "text/plain": [
       "pandas.core.series.Series"
      ]
     },
     "execution_count": 31,
     "metadata": {},
     "output_type": "execute_result"
    }
   ],
   "source": [
    "type(df[df['Facility ID'] == 9198]['Facility ID'])"
   ]
  },
  {
   "cell_type": "code",
   "execution_count": 37,
   "metadata": {},
   "outputs": [
    {
     "data": {
      "text/plain": [
       "63"
      ]
     },
     "execution_count": 37,
     "metadata": {},
     "output_type": "execute_result"
    }
   ],
   "source": [
    "number_of_censuses(df,9198)"
   ]
  },
  {
   "cell_type": "code",
   "execution_count": 82,
   "metadata": {
    "collapsed": true
   },
   "outputs": [],
   "source": [
    "def earliest_census_date(df, facility_id):\n",
    "    '''\n",
    "    INPUT: DataFrame, int\n",
    "    OUTPUT: date\n",
    "    Write a pandas query that returns the earliest census date for the \n",
    "    specified facility id\n",
    "    Note: The dates are currently stored as strings, not date objects\n",
    "    Hint: pd.to_datetime is very useful\n",
    "    '''\n",
    "    old_date_series = df['Bed Census Date'][df['Facility ID'] == facility_id]\n",
    "    datetime_series = pd.Series([pd.to_datetime(x) for x in old_date_series])\n",
    "    min_datetime = min(datetime_series)\n",
    "    return min_datetime\n",
    "    \n",
    "    "
   ]
  },
  {
   "cell_type": "code",
   "execution_count": 83,
   "metadata": {},
   "outputs": [
    {
     "data": {
      "text/plain": [
       "Timestamp('2011-11-30 00:00:00')"
      ]
     },
     "execution_count": 83,
     "metadata": {},
     "output_type": "execute_result"
    }
   ],
   "source": [
    "earliest_census_date(df, 9198)"
   ]
  },
  {
   "cell_type": "code",
   "execution_count": 100,
   "metadata": {
    "collapsed": true
   },
   "outputs": [],
   "source": [
    "def beds_top_ten(df, facility_id):\n",
    "    '''\n",
    "    INPUT: DataFrame, int\n",
    "    OUTPUT: date\n",
    "    Write a pandas query that returns the ten census dates with the highest \n",
    "    number of available beds for the nursing home with the specified facility id\n",
    "    REQUIREMENTS:\n",
    "    Do a filter followed by a sort rather than a sort followed by a merge.\n",
    "    '''\n",
    "    return df.sort_values('Available Residential Beds', ascending = False)[df['Facility ID'] == facility_id]['Bed Census Date'].head(10)"
   ]
  },
  {
   "cell_type": "code",
   "execution_count": 101,
   "metadata": {},
   "outputs": [
    {
     "name": "stderr",
     "output_type": "stream",
     "text": [
      "/Users/colinbrochard/anaconda/lib/python3.6/site-packages/ipykernel_launcher.py:10: UserWarning: Boolean Series key will be reindexed to match DataFrame index.\n",
      "  # Remove the CWD from sys.path while we load stuff.\n"
     ]
    },
    {
     "data": {
      "text/plain": [
       "115292    05/15/2013\n",
       "115301    03/06/2013\n",
       "115293    05/08/2013\n",
       "115338    01/11/2012\n",
       "115339    01/04/2012\n",
       "115309    01/09/2013\n",
       "115287    06/19/2013\n",
       "115291    05/22/2013\n",
       "115290    05/29/2013\n",
       "115283    07/24/2013\n",
       "Name: Bed Census Date, dtype: object"
      ]
     },
     "execution_count": 101,
     "metadata": {},
     "output_type": "execute_result"
    }
   ],
   "source": [
    "beds_top_ten(df,9198)"
   ]
  },
  {
   "cell_type": "code",
   "execution_count": null,
   "metadata": {
    "collapsed": true
   },
   "outputs": [],
   "source": []
  }
 ],
 "metadata": {
  "kernelspec": {
   "display_name": "Python 3",
   "language": "python",
   "name": "python3"
  },
  "language_info": {
   "codemirror_mode": {
    "name": "ipython",
    "version": 3
   },
   "file_extension": ".py",
   "mimetype": "text/x-python",
   "name": "python",
   "nbconvert_exporter": "python",
   "pygments_lexer": "ipython3",
   "version": "3.6.1"
  }
 },
 "nbformat": 4,
 "nbformat_minor": 2
}
